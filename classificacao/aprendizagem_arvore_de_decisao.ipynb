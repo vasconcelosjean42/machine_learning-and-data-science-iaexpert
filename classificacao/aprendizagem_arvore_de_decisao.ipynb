{
  "nbformat": 4,
  "nbformat_minor": 0,
  "metadata": {
    "colab": {
      "provenance": [],
      "authorship_tag": "ABX9TyO5mnkSjLrR58zUJjYDJynU",
      "include_colab_link": true
    },
    "kernelspec": {
      "name": "python3",
      "display_name": "Python 3"
    },
    "language_info": {
      "name": "python"
    }
  },
  "cells": [
    {
      "cell_type": "markdown",
      "metadata": {
        "id": "view-in-github",
        "colab_type": "text"
      },
      "source": [
        "<a href=\"https://colab.research.google.com/github/vasconcelosjean42/machine_learning-and-data-science-iaexpert/blob/main/classificacao/aprendizagem_arvore_de_decisao.ipynb\" target=\"_parent\"><img src=\"https://colab.research.google.com/assets/colab-badge.svg\" alt=\"Open In Colab\"/></a>"
      ]
    },
    {
      "cell_type": "code",
      "execution_count": null,
      "metadata": {
        "id": "85EzpyCPBIH3"
      },
      "outputs": [],
      "source": []
    },
    {
      "cell_type": "markdown",
      "source": [
        "#Árvore de decisão"
      ],
      "metadata": {
        "id": "isXbpP8aBO1e"
      }
    },
    {
      "cell_type": "markdown",
      "source": [
        "## Base risco de crédito"
      ],
      "metadata": {
        "id": "uMfC3n2_BTVp"
      }
    },
    {
      "cell_type": "markdown",
      "source": [
        "## Base credit data"
      ],
      "metadata": {
        "id": "HSQKy4fgBYxm"
      }
    },
    {
      "cell_type": "markdown",
      "source": [
        "## Base census"
      ],
      "metadata": {
        "id": "nE4qT9CeBbEC"
      }
    },
    {
      "cell_type": "markdown",
      "source": [],
      "metadata": {
        "id": "ijA9LHnrBWIb"
      }
    }
  ]
}